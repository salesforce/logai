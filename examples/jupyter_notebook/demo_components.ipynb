{
 "cells": [
  {
   "cell_type": "code",
   "execution_count": null,
   "metadata": {
    "pycharm": {
     "is_executing": true
    }
   },
   "outputs": [],
   "source": [
    "from logai.dataloader.data_loader import FileDataLoader, DataLoaderConfig\n",
    "from logai.information_extraction.log_parser import LogParser, LogParserConfig\n",
    "from logai.algorithms.parsing_algo.drain import DrainParams"
   ]
  },
  {
   "cell_type": "markdown",
   "metadata": {},
   "source": [
    "# Data Loader\n",
    "\n",
    "Load log data and store all data in @LogRecordObject. Currently only implemented FileDataLoader.\n",
    "\n",
    "Please change the filepath correspondingly.\n",
    "I've put the ./data dir in .gitignore to avoid checking in data unexpectedly\n"
   ]
  },
  {
   "cell_type": "code",
   "execution_count": 3,
   "metadata": {
    "pycharm": {
     "name": "#%%\n"
    }
   },
   "outputs": [
    {
     "data": {
      "text/plain": "FileConfig(filepath='../data/default_data/mixed.csv', log_type='csv', dimensions={'timestamp': ['timestamp'], 'attributes': ['cluster_label', 'logRecordType'], 'body': ['_raw']}, custom_delimeter_regex=['`+|\\\\s+'], sep=None, header=0)"
     },
     "execution_count": 3,
     "metadata": {},
     "output_type": "execute_result"
    }
   ],
   "source": [
    "\n",
    "#File Configuration\n",
    "filepath = \"../data/default_data/mixed.csv\"\n",
    "log_type = 'csv'\n",
    "dimensions = {'timestamp': ['timestamp'],\n",
    "              'attributes': ['cluster_label',\n",
    "                             'logRecordType'],\n",
    "              'body': ['_raw']}\n",
    "custom_delimeter_regex = [r\"`+|\\s+\"]\n",
    "\n",
    "file_config = DataLoaderConfig(\n",
    "    filepath=filepath,\n",
    "    log_type='csv',\n",
    "    dimensions=dimensions,\n",
    "    custom_delimeter_regex=custom_delimeter_regex,\n",
    "    header=0\n",
    ")\n",
    "\n",
    "file_config"
   ]
  },
  {
   "cell_type": "code",
   "execution_count": null,
   "outputs": [],
   "source": [
    "\n",
    "\n",
    "dataloader = FileDataLoader(file_config)\n",
    "logrecord = dataloader.load_data()\n"
   ],
   "metadata": {
    "collapsed": false,
    "pycharm": {
     "name": "#%%\n"
    }
   }
  },
  {
   "cell_type": "markdown",
   "metadata": {},
   "source": [
    "# Preprocess\n",
    "\n",
    "Do customer rules to initially parse the loglines. Add custom delimeters in a regex\n",
    "\n",
    "Group log records by any attributes. Return grouped log index so follow up process can handle them separately.\n"
   ]
  },
  {
   "cell_type": "code",
   "execution_count": 3,
   "metadata": {
    "pycharm": {
     "name": "#%%\n"
    }
   },
   "outputs": [],
   "source": [
    "from logai.preprocess.preprocess import Preprocessor, PreprocessorConfig\n",
    "\n",
    "preprocessor = Preprocessor(PreprocessorConfig(custom_delimiters_regex=custom_delimeter_regex))\n",
    "preprocessed_loglines = preprocessor.clean_log(logrecord.body['_raw'])"
   ]
  },
  {
   "cell_type": "code",
   "execution_count": 4,
   "outputs": [
    {
     "data": {
      "text/plain": "0    ffgen 20210501000000.005 112100 0 0 acbcfa25dd...\n1    phqry 20210501000000.035 5436 0 0 28e3e6101f0d...\n2    phqry 20210501000000.121 1259 0 0 0 1o:035 232...\n3    mqdbg 20210501000000.124 1411 0 0 0 Qr:021 232...\n4    mqdbg 20210501000000.127 1411 0 0 0 fr:021 232...\nName: _raw, dtype: object"
     },
     "execution_count": 4,
     "metadata": {},
     "output_type": "execute_result"
    }
   ],
   "source": [
    "preprocessed_loglines.head(5)"
   ],
   "metadata": {
    "collapsed": false,
    "pycharm": {
     "name": "#%%\n"
    }
   }
  },
  {
   "cell_type": "markdown",
   "metadata": {},
   "source": [
    "# Information Extraction\n",
    "\n",
    "\n",
    "## Parsing\n",
    "\n",
    "Currently only implemented DRAIN. IPLoM next but needs time to refactor code from LogPAI.\n"
   ]
  },
  {
   "cell_type": "code",
   "execution_count": 5,
   "metadata": {
    "pycharm": {
     "name": "#%%\n"
    }
   },
   "outputs": [],
   "source": [
    "\n",
    "log_parser_config = LogParserConfig(\n",
    "    parsing_algorithm='drain'\n",
    ")\n",
    "\n",
    "parser = LogParser(log_parser_config)\n",
    "parsed_result = parser.parse(preprocessed_loglines)"
   ]
  },
  {
   "cell_type": "code",
   "execution_count": 6,
   "outputs": [
    {
     "data": {
      "text/plain": "                                             logline  \\\n0  ffgen 20210501000000.005 112100 0 0 acbcfa25dd...   \n1  phqry 20210501000000.035 5436 0 0 28e3e6101f0d...   \n2  phqry 20210501000000.121 1259 0 0 0 1o:035 232...   \n3  mqdbg 20210501000000.124 1411 0 0 0 Qr:021 232...   \n4  mqdbg 20210501000000.127 1411 0 0 0 fr:021 232...   \n\n                                      parsed_logline  \\\n0  ffgen * * 0 0 * * 0 * 232.3.3 INFO RollingHttp...   \n1        phqry * * 0 0 * * 0 * 232.3.3 * * * asyncop   \n2  phqry * * 0 0 0 * 232.3.3 RT * * * * * * * = *...   \n3  mqdbg * * 0 0 0 * 232.3.3 sfdc.common.messagin...   \n4  mqdbg * * 0 0 0 * 232.3.3 sfdc.common.messagin...   \n\n                                      parameter_list  \n0  [20210501000000.005, 112100, acbcfa25ddbbae4b,...  \n1  [20210501000000.035, 5436, 28e3e6101f0dbba5, -...  \n2  [20210501000000.121, 1259, 1o:035, {qplo=0,tq=...  \n3  [20210501000000.124, 1411, Qr:021, Stopping, d...  \n4  [20210501000000.127, 1411, fr:021, agent, for,...  ",
      "text/html": "<div>\n<style scoped>\n    .dataframe tbody tr th:only-of-type {\n        vertical-align: middle;\n    }\n\n    .dataframe tbody tr th {\n        vertical-align: top;\n    }\n\n    .dataframe thead th {\n        text-align: right;\n    }\n</style>\n<table border=\"1\" class=\"dataframe\">\n  <thead>\n    <tr style=\"text-align: right;\">\n      <th></th>\n      <th>logline</th>\n      <th>parsed_logline</th>\n      <th>parameter_list</th>\n    </tr>\n  </thead>\n  <tbody>\n    <tr>\n      <th>0</th>\n      <td>ffgen 20210501000000.005 112100 0 0 acbcfa25dd...</td>\n      <td>ffgen * * 0 0 * * 0 * 232.3.3 INFO RollingHttp...</td>\n      <td>[20210501000000.005, 112100, acbcfa25ddbbae4b,...</td>\n    </tr>\n    <tr>\n      <th>1</th>\n      <td>phqry 20210501000000.035 5436 0 0 28e3e6101f0d...</td>\n      <td>phqry * * 0 0 * * 0 * 232.3.3 * * * asyncop</td>\n      <td>[20210501000000.035, 5436, 28e3e6101f0dbba5, -...</td>\n    </tr>\n    <tr>\n      <th>2</th>\n      <td>phqry 20210501000000.121 1259 0 0 0 1o:035 232...</td>\n      <td>phqry * * 0 0 0 * 232.3.3 RT * * * * * * * = *...</td>\n      <td>[20210501000000.121, 1259, 1o:035, {qplo=0,tq=...</td>\n    </tr>\n    <tr>\n      <th>3</th>\n      <td>mqdbg 20210501000000.124 1411 0 0 0 Qr:021 232...</td>\n      <td>mqdbg * * 0 0 0 * 232.3.3 sfdc.common.messagin...</td>\n      <td>[20210501000000.124, 1411, Qr:021, Stopping, d...</td>\n    </tr>\n    <tr>\n      <th>4</th>\n      <td>mqdbg 20210501000000.127 1411 0 0 0 fr:021 232...</td>\n      <td>mqdbg * * 0 0 0 * 232.3.3 sfdc.common.messagin...</td>\n      <td>[20210501000000.127, 1411, fr:021, agent, for,...</td>\n    </tr>\n  </tbody>\n</table>\n</div>"
     },
     "execution_count": 6,
     "metadata": {},
     "output_type": "execute_result"
    }
   ],
   "source": [
    "parsed_result.head(5)"
   ],
   "metadata": {
    "collapsed": false,
    "pycharm": {
     "name": "#%%\n"
    }
   }
  },
  {
   "cell_type": "markdown",
   "metadata": {},
   "source": [
    "## Vectorization\n",
    "\n",
    "### Vectorization using Word2Vec"
   ]
  },
  {
   "cell_type": "code",
   "execution_count": 7,
   "metadata": {
    "pycharm": {
     "name": "#%%\n"
    }
   },
   "outputs": [],
   "source": [
    "from logai.information_extraction.log_vectorizer import VectorizerConfig, LogVectorizer\n",
    "parsed_loglines = parsed_result['parsed_logline']\n",
    "\n",
    "\n",
    "\n",
    "#params = Word2VecParams()\n",
    "vectorizer_config = VectorizerConfig(algo_name=\"word2vec\")\n",
    "vectorizor = LogVectorizer(vectorizer_config)\n",
    "vectorizor.fit(parsed_loglines)\n",
    "\n",
    "#Log vector is a pandas.Series\n",
    "log_vectors_w2v = vectorizor.transform(parsed_loglines)\n"
   ]
  },
  {
   "cell_type": "code",
   "execution_count": 8,
   "metadata": {},
   "outputs": [
    {
     "data": {
      "text/plain": "0        [0.054382484, 0.0063305697, 0.1157879, -0.0178...\n1        [-0.08794713, -0.29176697, -0.028551897, -0.01...\n2        [-0.08794713, -0.29176697, -0.028551897, -0.01...\n3        [-0.15993507, -0.103575386, 0.22658761, -0.017...\n4        [-0.15993507, -0.103575386, 0.22658761, -0.017...\n                               ...                        \n86930    [-0.04845802, -0.30693808, 0.14568503, -0.0178...\n86931    [-0.08794713, -0.29176697, -0.028551897, -0.01...\n86932    [0.054382484, 0.0063305697, 0.1157879, -0.0178...\n86933    [-0.08794713, -0.29176697, -0.028551897, -0.01...\n86934    [-0.15993507, -0.103575386, 0.22658761, -0.017...\nLength: 86935, dtype: object"
     },
     "execution_count": 8,
     "metadata": {},
     "output_type": "execute_result"
    }
   ],
   "source": [
    "log_vectors_w2v\n"
   ]
  },
  {
   "cell_type": "markdown",
   "source": [
    "## Vectorization\n",
    "\n",
    "### Categorical Encoding for log attributes"
   ],
   "metadata": {
    "collapsed": false
   }
  },
  {
   "cell_type": "code",
   "execution_count": 9,
   "outputs": [
    {
     "data": {
      "text/plain": "   cluster_label_categorical  logRecordType_categorical\n0                         43                          3\n1                        205                          7\n2                        327                          7\n3                         16                          6\n4                         15                          6",
      "text/html": "<div>\n<style scoped>\n    .dataframe tbody tr th:only-of-type {\n        vertical-align: middle;\n    }\n\n    .dataframe tbody tr th {\n        vertical-align: top;\n    }\n\n    .dataframe thead th {\n        text-align: right;\n    }\n</style>\n<table border=\"1\" class=\"dataframe\">\n  <thead>\n    <tr style=\"text-align: right;\">\n      <th></th>\n      <th>cluster_label_categorical</th>\n      <th>logRecordType_categorical</th>\n    </tr>\n  </thead>\n  <tbody>\n    <tr>\n      <th>0</th>\n      <td>43</td>\n      <td>3</td>\n    </tr>\n    <tr>\n      <th>1</th>\n      <td>205</td>\n      <td>7</td>\n    </tr>\n    <tr>\n      <th>2</th>\n      <td>327</td>\n      <td>7</td>\n    </tr>\n    <tr>\n      <th>3</th>\n      <td>16</td>\n      <td>6</td>\n    </tr>\n    <tr>\n      <th>4</th>\n      <td>15</td>\n      <td>6</td>\n    </tr>\n  </tbody>\n</table>\n</div>"
     },
     "execution_count": 9,
     "metadata": {},
     "output_type": "execute_result"
    }
   ],
   "source": [
    "from logai.information_extraction.categorical_encoder import CategoricalEncoderConfig, CategoricalEncoder\n",
    "\n",
    "encoder_config = CategoricalEncoderConfig(name=\"label_encoder\")\n",
    "\n",
    "encoder = CategoricalEncoder(encoder_config)\n",
    "\n",
    "attributes = encoder.fit_transform(logrecord.attributes)\n",
    "\n",
    "attributes.head(5)\n"
   ],
   "metadata": {
    "collapsed": false,
    "pycharm": {
     "name": "#%%\n"
    }
   }
  },
  {
   "cell_type": "markdown",
   "metadata": {},
   "source": [
    "## Feature extraction\n",
    "\n",
    "### Implement log vector to feature\n",
    "\n",
    "This will convert the vector metrics to a n dimensional feature. Implement simple 0 padding method.\n"
   ]
  },
  {
   "cell_type": "code",
   "execution_count": 10,
   "metadata": {
    "pycharm": {
     "name": "#%%\n"
    }
   },
   "outputs": [],
   "source": [
    "from logai.information_extraction.feature_extractor import FeatureExtractor, FeatureExtractorConfig\n",
    "\n",
    "import pandas as pd\n",
    "\n",
    "\n",
    "timestamps = pd.to_datetime(logrecord.timestamp['timestamp'])\n"
   ]
  },
  {
   "cell_type": "markdown",
   "metadata": {},
   "source": [
    "### convert to feature vector"
   ]
  },
  {
   "cell_type": "code",
   "execution_count": 12,
   "outputs": [
    {
     "data": {
      "text/plain": "  logRecordType  feature_0  feature_1  feature_2  feature_3  feature_4  \\\n0         ailtn   0.019059   0.248064  -0.027109  -0.017529   0.008031   \n1         augen  -0.190104   0.061961   0.202962  -0.017823   0.007860   \n2         cptsk   0.094219   0.180048   0.235089  -0.017557   0.008190   \n3         ffgen   0.054346   0.006331   0.115815  -0.017942   0.007932   \n4         ksgen   0.092584   0.229095   0.203279  -0.098165   0.002991   \n\n   feature_5  feature_6  feature_7  feature_8  ...  feature_90    feature_91  \\\n0   0.169828  -0.018005   0.007744   0.169683  ...    0.006279  5.041505e-03   \n1   0.169471  -0.017835   0.008071   0.169711  ...   -0.082377  3.072485e-01   \n2   0.169343  -0.017779   0.008002   0.170041  ...   -0.000002  7.881005e-07   \n3   0.169966  -0.017872   0.007908   0.170102  ...    0.003419  2.875315e-03   \n4   0.128670  -0.017973   0.007998   0.169543  ...    0.031865  6.168883e-02   \n\n   feature_92  feature_93  feature_94  feature_95  feature_96  feature_97  \\\n0    0.000611    0.001830    0.003287    0.002173    0.003760    0.003077   \n1    0.232524   -0.065904    0.232332    0.151251   -0.004455    0.131363   \n2    0.000017    0.000000    0.000000    0.000000    0.000000    0.000000   \n3    0.000808    0.000930   -0.000963    0.000364    0.003300    0.003912   \n4   -0.002998    0.025346    0.020107   -0.010445    0.028911    0.059404   \n\n   feature_98  feature_99  \n0    0.001193   -0.001134  \n1    0.179685    0.121703  \n2    0.000000    0.000000  \n3    0.001366    0.001002  \n4   -0.007812    0.028381  \n\n[5 rows x 101 columns]",
      "text/html": "<div>\n<style scoped>\n    .dataframe tbody tr th:only-of-type {\n        vertical-align: middle;\n    }\n\n    .dataframe tbody tr th {\n        vertical-align: top;\n    }\n\n    .dataframe thead th {\n        text-align: right;\n    }\n</style>\n<table border=\"1\" class=\"dataframe\">\n  <thead>\n    <tr style=\"text-align: right;\">\n      <th></th>\n      <th>logRecordType</th>\n      <th>feature_0</th>\n      <th>feature_1</th>\n      <th>feature_2</th>\n      <th>feature_3</th>\n      <th>feature_4</th>\n      <th>feature_5</th>\n      <th>feature_6</th>\n      <th>feature_7</th>\n      <th>feature_8</th>\n      <th>...</th>\n      <th>feature_90</th>\n      <th>feature_91</th>\n      <th>feature_92</th>\n      <th>feature_93</th>\n      <th>feature_94</th>\n      <th>feature_95</th>\n      <th>feature_96</th>\n      <th>feature_97</th>\n      <th>feature_98</th>\n      <th>feature_99</th>\n    </tr>\n  </thead>\n  <tbody>\n    <tr>\n      <th>0</th>\n      <td>ailtn</td>\n      <td>0.019059</td>\n      <td>0.248064</td>\n      <td>-0.027109</td>\n      <td>-0.017529</td>\n      <td>0.008031</td>\n      <td>0.169828</td>\n      <td>-0.018005</td>\n      <td>0.007744</td>\n      <td>0.169683</td>\n      <td>...</td>\n      <td>0.006279</td>\n      <td>5.041505e-03</td>\n      <td>0.000611</td>\n      <td>0.001830</td>\n      <td>0.003287</td>\n      <td>0.002173</td>\n      <td>0.003760</td>\n      <td>0.003077</td>\n      <td>0.001193</td>\n      <td>-0.001134</td>\n    </tr>\n    <tr>\n      <th>1</th>\n      <td>augen</td>\n      <td>-0.190104</td>\n      <td>0.061961</td>\n      <td>0.202962</td>\n      <td>-0.017823</td>\n      <td>0.007860</td>\n      <td>0.169471</td>\n      <td>-0.017835</td>\n      <td>0.008071</td>\n      <td>0.169711</td>\n      <td>...</td>\n      <td>-0.082377</td>\n      <td>3.072485e-01</td>\n      <td>0.232524</td>\n      <td>-0.065904</td>\n      <td>0.232332</td>\n      <td>0.151251</td>\n      <td>-0.004455</td>\n      <td>0.131363</td>\n      <td>0.179685</td>\n      <td>0.121703</td>\n    </tr>\n    <tr>\n      <th>2</th>\n      <td>cptsk</td>\n      <td>0.094219</td>\n      <td>0.180048</td>\n      <td>0.235089</td>\n      <td>-0.017557</td>\n      <td>0.008190</td>\n      <td>0.169343</td>\n      <td>-0.017779</td>\n      <td>0.008002</td>\n      <td>0.170041</td>\n      <td>...</td>\n      <td>-0.000002</td>\n      <td>7.881005e-07</td>\n      <td>0.000017</td>\n      <td>0.000000</td>\n      <td>0.000000</td>\n      <td>0.000000</td>\n      <td>0.000000</td>\n      <td>0.000000</td>\n      <td>0.000000</td>\n      <td>0.000000</td>\n    </tr>\n    <tr>\n      <th>3</th>\n      <td>ffgen</td>\n      <td>0.054346</td>\n      <td>0.006331</td>\n      <td>0.115815</td>\n      <td>-0.017942</td>\n      <td>0.007932</td>\n      <td>0.169966</td>\n      <td>-0.017872</td>\n      <td>0.007908</td>\n      <td>0.170102</td>\n      <td>...</td>\n      <td>0.003419</td>\n      <td>2.875315e-03</td>\n      <td>0.000808</td>\n      <td>0.000930</td>\n      <td>-0.000963</td>\n      <td>0.000364</td>\n      <td>0.003300</td>\n      <td>0.003912</td>\n      <td>0.001366</td>\n      <td>0.001002</td>\n    </tr>\n    <tr>\n      <th>4</th>\n      <td>ksgen</td>\n      <td>0.092584</td>\n      <td>0.229095</td>\n      <td>0.203279</td>\n      <td>-0.098165</td>\n      <td>0.002991</td>\n      <td>0.128670</td>\n      <td>-0.017973</td>\n      <td>0.007998</td>\n      <td>0.169543</td>\n      <td>...</td>\n      <td>0.031865</td>\n      <td>6.168883e-02</td>\n      <td>-0.002998</td>\n      <td>0.025346</td>\n      <td>0.020107</td>\n      <td>-0.010445</td>\n      <td>0.028911</td>\n      <td>0.059404</td>\n      <td>-0.007812</td>\n      <td>0.028381</td>\n    </tr>\n  </tbody>\n</table>\n<p>5 rows × 101 columns</p>\n</div>"
     },
     "execution_count": 12,
     "metadata": {},
     "output_type": "execute_result"
    }
   ],
   "source": [
    "config = FeatureExtractorConfig(\n",
    "    max_feature_len=100,\n",
    "    group_by_category=['logRecordType']\n",
    ")\n",
    "\n",
    "feature_extractor = FeatureExtractor(config)\n",
    "\n",
    "feature_vector = feature_extractor.convert_to_feature_vector(log_vectors_w2v, logrecord.attributes, timestamps)\n",
    "\n",
    "feature_vector.head(5)"
   ],
   "metadata": {
    "collapsed": false,
    "pycharm": {
     "name": "#%%\n"
    }
   }
  },
  {
   "cell_type": "markdown",
   "metadata": {},
   "source": [
    "### convert to counter vector\n",
    "\n",
    "Convert logline to vector"
   ]
  },
  {
   "cell_type": "code",
   "execution_count": 14,
   "outputs": [
    {
     "data": {
      "text/plain": "                                      parsed_logline logRecordType  \\\n0             * * * 0 0 0 * 232.3.3 INFO * * * for *         ffgen   \n1             * * * 0 0 0 * 232.3.3 INFO * * * for *         ksgen   \n2  ailtn * * * 0 0 * * * * 232.3.3 * * * * * * 23...         ailtn   \n3  ailtn * * * 0 0 * * * * 232.3.3 * * * * * * 23...         ailtn   \n4  ailtn * * * 0 0 * * * * 232.3.3 * * * * 000000...         ailtn   \n\n                  timestamp  Counts  \n0 2021-05-01 00:00:00+00:00       5  \n1 2021-05-01 00:00:00+00:00      15  \n2 2021-05-01 00:00:00+00:00    3995  \n3 2021-05-01 00:00:00+00:00     163  \n4 2021-05-01 00:00:00+00:00       7  ",
      "text/html": "<div>\n<style scoped>\n    .dataframe tbody tr th:only-of-type {\n        vertical-align: middle;\n    }\n\n    .dataframe tbody tr th {\n        vertical-align: top;\n    }\n\n    .dataframe thead th {\n        text-align: right;\n    }\n</style>\n<table border=\"1\" class=\"dataframe\">\n  <thead>\n    <tr style=\"text-align: right;\">\n      <th></th>\n      <th>parsed_logline</th>\n      <th>logRecordType</th>\n      <th>timestamp</th>\n      <th>Counts</th>\n    </tr>\n  </thead>\n  <tbody>\n    <tr>\n      <th>0</th>\n      <td>* * * 0 0 0 * 232.3.3 INFO * * * for *</td>\n      <td>ffgen</td>\n      <td>2021-05-01 00:00:00+00:00</td>\n      <td>5</td>\n    </tr>\n    <tr>\n      <th>1</th>\n      <td>* * * 0 0 0 * 232.3.3 INFO * * * for *</td>\n      <td>ksgen</td>\n      <td>2021-05-01 00:00:00+00:00</td>\n      <td>15</td>\n    </tr>\n    <tr>\n      <th>2</th>\n      <td>ailtn * * * 0 0 * * * * 232.3.3 * * * * * * 23...</td>\n      <td>ailtn</td>\n      <td>2021-05-01 00:00:00+00:00</td>\n      <td>3995</td>\n    </tr>\n    <tr>\n      <th>3</th>\n      <td>ailtn * * * 0 0 * * * * 232.3.3 * * * * * * 23...</td>\n      <td>ailtn</td>\n      <td>2021-05-01 00:00:00+00:00</td>\n      <td>163</td>\n    </tr>\n    <tr>\n      <th>4</th>\n      <td>ailtn * * * 0 0 * * * * 232.3.3 * * * * 000000...</td>\n      <td>ailtn</td>\n      <td>2021-05-01 00:00:00+00:00</td>\n      <td>7</td>\n    </tr>\n  </tbody>\n</table>\n</div>"
     },
     "execution_count": 14,
     "metadata": {},
     "output_type": "execute_result"
    }
   ],
   "source": [
    "config = FeatureExtractorConfig(\n",
    "    group_by_time=\"15min\",\n",
    "    group_by_category=['parsed_logline', 'logRecordType'],\n",
    "    max_feature_len=100\n",
    ")\n",
    "\n",
    "\n",
    "feature_extractor = FeatureExtractor(config)\n",
    "\n",
    "counter_vector_str = feature_extractor.convert_to_counter_vector(\n",
    "    log_pattern=parsed_loglines,\n",
    "    attributes=logrecord.attributes,\n",
    "    timestamps=timestamps\n",
    ")\n",
    "\n",
    "counter_vector_str.head(5)"
   ],
   "metadata": {
    "collapsed": false,
    "pycharm": {
     "name": "#%%\n"
    }
   }
  },
  {
   "cell_type": "code",
   "execution_count": 15,
   "metadata": {
    "pycharm": {
     "name": "#%%\n"
    }
   },
   "outputs": [
    {
     "data": {
      "text/plain": "                                      parsed_logline logRecordType  \\\n0             * * * 0 0 0 * 232.3.3 INFO * * * for *         ffgen   \n1             * * * 0 0 0 * 232.3.3 INFO * * * for *         ksgen   \n2  ailtn * * * 0 0 * * * * 232.3.3 * * * * * * 23...         ailtn   \n3  ailtn * * * 0 0 * * * * 232.3.3 * * * * * * 23...         ailtn   \n4  ailtn * * * 0 0 * * * * 232.3.3 * * * * 000000...         ailtn   \n\n                  timestamp  Counts  \n0 2021-05-01 00:00:00+00:00       5  \n1 2021-05-01 00:00:00+00:00      15  \n2 2021-05-01 00:00:00+00:00    3995  \n3 2021-05-01 00:00:00+00:00     163  \n4 2021-05-01 00:00:00+00:00       7  ",
      "text/html": "<div>\n<style scoped>\n    .dataframe tbody tr th:only-of-type {\n        vertical-align: middle;\n    }\n\n    .dataframe tbody tr th {\n        vertical-align: top;\n    }\n\n    .dataframe thead th {\n        text-align: right;\n    }\n</style>\n<table border=\"1\" class=\"dataframe\">\n  <thead>\n    <tr style=\"text-align: right;\">\n      <th></th>\n      <th>parsed_logline</th>\n      <th>logRecordType</th>\n      <th>timestamp</th>\n      <th>Counts</th>\n    </tr>\n  </thead>\n  <tbody>\n    <tr>\n      <th>0</th>\n      <td>* * * 0 0 0 * 232.3.3 INFO * * * for *</td>\n      <td>ffgen</td>\n      <td>2021-05-01 00:00:00+00:00</td>\n      <td>5</td>\n    </tr>\n    <tr>\n      <th>1</th>\n      <td>* * * 0 0 0 * 232.3.3 INFO * * * for *</td>\n      <td>ksgen</td>\n      <td>2021-05-01 00:00:00+00:00</td>\n      <td>15</td>\n    </tr>\n    <tr>\n      <th>2</th>\n      <td>ailtn * * * 0 0 * * * * 232.3.3 * * * * * * 23...</td>\n      <td>ailtn</td>\n      <td>2021-05-01 00:00:00+00:00</td>\n      <td>3995</td>\n    </tr>\n    <tr>\n      <th>3</th>\n      <td>ailtn * * * 0 0 * * * * 232.3.3 * * * * * * 23...</td>\n      <td>ailtn</td>\n      <td>2021-05-01 00:00:00+00:00</td>\n      <td>163</td>\n    </tr>\n    <tr>\n      <th>4</th>\n      <td>ailtn * * * 0 0 * * * * 232.3.3 * * * * 000000...</td>\n      <td>ailtn</td>\n      <td>2021-05-01 00:00:00+00:00</td>\n      <td>7</td>\n    </tr>\n  </tbody>\n</table>\n</div>"
     },
     "execution_count": 15,
     "metadata": {},
     "output_type": "execute_result"
    }
   ],
   "source": [
    "counter_vector_str = feature_extractor.convert_to_counter_vector(parsed_loglines, logrecord.attributes, timestamps)\n",
    "\n",
    "counter_vector_str.head(5)"
   ]
  },
  {
   "cell_type": "markdown",
   "metadata": {
    "pycharm": {
     "name": "#%% md\n"
    }
   },
   "source": [
    "### Counter vector on log vector \n",
    "\n",
    "Convert np.array vector to counter vector"
   ]
  },
  {
   "cell_type": "code",
   "execution_count": 16,
   "metadata": {
    "pycharm": {
     "name": "#%%\n"
    }
   },
   "outputs": [],
   "source": [
    "import numpy as np\n",
    "\n",
    "log_vector_pattern = log_vectors_w2v.apply(lambda x: np.array2string(x, formatter={'float_kind':lambda x: \"%.2f\" % x})).rename('log_pattern')\n",
    "\n",
    "config = FeatureExtractorConfig(\n",
    "    group_by_time=\"15min\",\n",
    "    group_by_category=['log_pattern', 'logRecordType'],\n",
    "    max_feature_len=100\n",
    ")\n",
    "\n",
    "\n",
    "feature_extractor = FeatureExtractor(config)\n",
    "\n",
    "\n",
    "counter_vector_numeric = feature_extractor.convert_to_counter_vector(log_vector_pattern, logrecord.attributes, timestamps)"
   ]
  },
  {
   "cell_type": "code",
   "execution_count": 17,
   "metadata": {
    "pycharm": {
     "name": "#%%\n"
    }
   },
   "outputs": [
    {
     "data": {
      "text/plain": "                                           log_pattern logRecordType  \\\n0    [-0.02 0.01 0.17 -0.02 0.01 0.17 -0.02 0.01 0....         ffgen   \n1    [-0.02 0.01 0.17 -0.02 0.01 0.17 -0.02 0.01 0....         ksgen   \n2    [-0.05 -0.31 0.15 -0.02 0.01 0.17 -0.02 0.01 0...         mlmul   \n3    [-0.05 -0.31 0.15 -0.02 0.01 0.17 -0.02 0.01 0...         mlmul   \n4    [-0.09 -0.29 -0.03 -0.00 -0.21 0.19 -0.02 0.01...         phqry   \n..                                                 ...           ...   \n658  [0.12 0.25 0.27 0.27 -0.05 0.27 -0.02 0.01 0.1...             s   \n659  [0.12 0.25 0.27 0.27 -0.05 0.27 -0.02 0.01 0.1...             s   \n660  [0.12 0.25 0.27 0.28 0.08 -0.27 0.26 -0.32 -0....             s   \n661  [0.12 0.25 0.27 0.30 -0.17 0.03 -0.02 0.01 0.1...             s   \n662  [0.12 0.25 0.27 0.33 -0.19 -0.16 0.07 0.14 0.0...             s   \n\n                    timestamp  Counts  \n0   2021-05-01 00:00:00+00:00       5  \n1   2021-05-01 00:00:00+00:00      15  \n2   2021-05-01 00:00:00+00:00       3  \n3   2021-05-01 00:00:00+00:00    9997  \n4   2021-05-01 00:00:00+00:00       2  \n..                        ...     ...  \n658 2021-05-01 00:00:00+00:00       1  \n659 2021-05-01 00:00:00+00:00     209  \n660 2021-05-01 00:00:00+00:00       1  \n661 2021-05-01 00:00:00+00:00       7  \n662 2021-05-01 00:00:00+00:00       1  \n\n[663 rows x 4 columns]",
      "text/html": "<div>\n<style scoped>\n    .dataframe tbody tr th:only-of-type {\n        vertical-align: middle;\n    }\n\n    .dataframe tbody tr th {\n        vertical-align: top;\n    }\n\n    .dataframe thead th {\n        text-align: right;\n    }\n</style>\n<table border=\"1\" class=\"dataframe\">\n  <thead>\n    <tr style=\"text-align: right;\">\n      <th></th>\n      <th>log_pattern</th>\n      <th>logRecordType</th>\n      <th>timestamp</th>\n      <th>Counts</th>\n    </tr>\n  </thead>\n  <tbody>\n    <tr>\n      <th>0</th>\n      <td>[-0.02 0.01 0.17 -0.02 0.01 0.17 -0.02 0.01 0....</td>\n      <td>ffgen</td>\n      <td>2021-05-01 00:00:00+00:00</td>\n      <td>5</td>\n    </tr>\n    <tr>\n      <th>1</th>\n      <td>[-0.02 0.01 0.17 -0.02 0.01 0.17 -0.02 0.01 0....</td>\n      <td>ksgen</td>\n      <td>2021-05-01 00:00:00+00:00</td>\n      <td>15</td>\n    </tr>\n    <tr>\n      <th>2</th>\n      <td>[-0.05 -0.31 0.15 -0.02 0.01 0.17 -0.02 0.01 0...</td>\n      <td>mlmul</td>\n      <td>2021-05-01 00:00:00+00:00</td>\n      <td>3</td>\n    </tr>\n    <tr>\n      <th>3</th>\n      <td>[-0.05 -0.31 0.15 -0.02 0.01 0.17 -0.02 0.01 0...</td>\n      <td>mlmul</td>\n      <td>2021-05-01 00:00:00+00:00</td>\n      <td>9997</td>\n    </tr>\n    <tr>\n      <th>4</th>\n      <td>[-0.09 -0.29 -0.03 -0.00 -0.21 0.19 -0.02 0.01...</td>\n      <td>phqry</td>\n      <td>2021-05-01 00:00:00+00:00</td>\n      <td>2</td>\n    </tr>\n    <tr>\n      <th>...</th>\n      <td>...</td>\n      <td>...</td>\n      <td>...</td>\n      <td>...</td>\n    </tr>\n    <tr>\n      <th>658</th>\n      <td>[0.12 0.25 0.27 0.27 -0.05 0.27 -0.02 0.01 0.1...</td>\n      <td>s</td>\n      <td>2021-05-01 00:00:00+00:00</td>\n      <td>1</td>\n    </tr>\n    <tr>\n      <th>659</th>\n      <td>[0.12 0.25 0.27 0.27 -0.05 0.27 -0.02 0.01 0.1...</td>\n      <td>s</td>\n      <td>2021-05-01 00:00:00+00:00</td>\n      <td>209</td>\n    </tr>\n    <tr>\n      <th>660</th>\n      <td>[0.12 0.25 0.27 0.28 0.08 -0.27 0.26 -0.32 -0....</td>\n      <td>s</td>\n      <td>2021-05-01 00:00:00+00:00</td>\n      <td>1</td>\n    </tr>\n    <tr>\n      <th>661</th>\n      <td>[0.12 0.25 0.27 0.30 -0.17 0.03 -0.02 0.01 0.1...</td>\n      <td>s</td>\n      <td>2021-05-01 00:00:00+00:00</td>\n      <td>7</td>\n    </tr>\n    <tr>\n      <th>662</th>\n      <td>[0.12 0.25 0.27 0.33 -0.19 -0.16 0.07 0.14 0.0...</td>\n      <td>s</td>\n      <td>2021-05-01 00:00:00+00:00</td>\n      <td>1</td>\n    </tr>\n  </tbody>\n</table>\n<p>663 rows × 4 columns</p>\n</div>"
     },
     "execution_count": 17,
     "metadata": {},
     "output_type": "execute_result"
    }
   ],
   "source": [
    "counter_vector_numeric"
   ]
  },
  {
   "cell_type": "markdown",
   "metadata": {},
   "source": [
    "## Clustering\n",
    "\n",
    "### prepare feature"
   ]
  },
  {
   "cell_type": "code",
   "execution_count": 18,
   "metadata": {
    "pycharm": {
     "name": "#%%\n"
    }
   },
   "outputs": [],
   "source": [
    "\n",
    "feature_for_clustering = feature_vector.loc[:, ~feature_vector.columns.isin(['timestamp', 'cluster_label', 'logRecordType'])]"
   ]
  },
  {
   "cell_type": "code",
   "execution_count": 19,
   "outputs": [
    {
     "data": {
      "text/plain": "  logRecordType  feature_0  feature_1  feature_2  feature_3  feature_4  \\\n0         ailtn   0.019059   0.248064  -0.027109  -0.017529   0.008031   \n1         augen  -0.190104   0.061961   0.202962  -0.017823   0.007860   \n2         cptsk   0.094219   0.180048   0.235089  -0.017557   0.008190   \n3         ffgen   0.054346   0.006331   0.115815  -0.017942   0.007932   \n4         ksgen   0.092584   0.229095   0.203279  -0.098165   0.002991   \n5         mlmul  -0.048458  -0.306938   0.145685  -0.017874   0.007881   \n6         mqdbg  -0.159935  -0.103575   0.226588  -0.017767   0.007967   \n7         phqry  -0.087947  -0.291767  -0.028552  -0.017905   0.007893   \n8         ppcmi   0.091437   0.231332   0.202181  -0.017874   0.007881   \n9             s   0.120894   0.250615   0.270810  -0.021007   0.018393   \n\n   feature_5  feature_6  feature_7  feature_8  ...  feature_90    feature_91  \\\n0   0.169828  -0.018005   0.007744   0.169683  ...    0.006279  5.041505e-03   \n1   0.169471  -0.017835   0.008071   0.169711  ...   -0.082377  3.072485e-01   \n2   0.169343  -0.017779   0.008002   0.170041  ...   -0.000002  7.881005e-07   \n3   0.169966  -0.017872   0.007908   0.170102  ...    0.003419  2.875315e-03   \n4   0.128670  -0.017973   0.007998   0.169543  ...    0.031865  6.168883e-02   \n5   0.170112  -0.017874   0.007881   0.170112  ...    0.000000  0.000000e+00   \n6   0.169629  -0.017669   0.007947   0.169702  ...   -0.047487  3.595531e-01   \n7   0.170050  -0.017801   0.007910   0.169836  ...    0.135102  7.805949e-02   \n8   0.170112  -0.017874   0.007881   0.170112  ...    0.000000  0.000000e+00   \n9   0.134851  -0.017906   0.007863   0.169834  ...    0.000000  0.000000e+00   \n\n   feature_92  feature_93  feature_94  feature_95  feature_96  feature_97  \\\n0    0.000611    0.001830    0.003287    0.002173    0.003760    0.003077   \n1    0.232524   -0.065904    0.232332    0.151251   -0.004455    0.131363   \n2    0.000017    0.000000    0.000000    0.000000    0.000000    0.000000   \n3    0.000808    0.000930   -0.000963    0.000364    0.003300    0.003912   \n4   -0.002998    0.025346    0.020107   -0.010445    0.028911    0.059404   \n5    0.000000    0.000000    0.000000    0.000000    0.000000    0.000000   \n6   -0.425073   -0.012746    0.085932   -0.127878    0.007068    0.071849   \n7   -0.043997    0.149282    0.079436   -0.038141    0.151809    0.092054   \n8    0.000000    0.000000    0.000000    0.000000    0.000000    0.000000   \n9    0.000000    0.000000    0.000000    0.000000    0.000000    0.000000   \n\n   feature_98  feature_99  \n0    0.001193   -0.001134  \n1    0.179685    0.121703  \n2    0.000000    0.000000  \n3    0.001366    0.001002  \n4   -0.007812    0.028381  \n5    0.000000    0.000000  \n6   -0.022037   -0.036018  \n7   -0.030102    0.151883  \n8    0.000000    0.000000  \n9    0.000000    0.000000  \n\n[10 rows x 101 columns]",
      "text/html": "<div>\n<style scoped>\n    .dataframe tbody tr th:only-of-type {\n        vertical-align: middle;\n    }\n\n    .dataframe tbody tr th {\n        vertical-align: top;\n    }\n\n    .dataframe thead th {\n        text-align: right;\n    }\n</style>\n<table border=\"1\" class=\"dataframe\">\n  <thead>\n    <tr style=\"text-align: right;\">\n      <th></th>\n      <th>logRecordType</th>\n      <th>feature_0</th>\n      <th>feature_1</th>\n      <th>feature_2</th>\n      <th>feature_3</th>\n      <th>feature_4</th>\n      <th>feature_5</th>\n      <th>feature_6</th>\n      <th>feature_7</th>\n      <th>feature_8</th>\n      <th>...</th>\n      <th>feature_90</th>\n      <th>feature_91</th>\n      <th>feature_92</th>\n      <th>feature_93</th>\n      <th>feature_94</th>\n      <th>feature_95</th>\n      <th>feature_96</th>\n      <th>feature_97</th>\n      <th>feature_98</th>\n      <th>feature_99</th>\n    </tr>\n  </thead>\n  <tbody>\n    <tr>\n      <th>0</th>\n      <td>ailtn</td>\n      <td>0.019059</td>\n      <td>0.248064</td>\n      <td>-0.027109</td>\n      <td>-0.017529</td>\n      <td>0.008031</td>\n      <td>0.169828</td>\n      <td>-0.018005</td>\n      <td>0.007744</td>\n      <td>0.169683</td>\n      <td>...</td>\n      <td>0.006279</td>\n      <td>5.041505e-03</td>\n      <td>0.000611</td>\n      <td>0.001830</td>\n      <td>0.003287</td>\n      <td>0.002173</td>\n      <td>0.003760</td>\n      <td>0.003077</td>\n      <td>0.001193</td>\n      <td>-0.001134</td>\n    </tr>\n    <tr>\n      <th>1</th>\n      <td>augen</td>\n      <td>-0.190104</td>\n      <td>0.061961</td>\n      <td>0.202962</td>\n      <td>-0.017823</td>\n      <td>0.007860</td>\n      <td>0.169471</td>\n      <td>-0.017835</td>\n      <td>0.008071</td>\n      <td>0.169711</td>\n      <td>...</td>\n      <td>-0.082377</td>\n      <td>3.072485e-01</td>\n      <td>0.232524</td>\n      <td>-0.065904</td>\n      <td>0.232332</td>\n      <td>0.151251</td>\n      <td>-0.004455</td>\n      <td>0.131363</td>\n      <td>0.179685</td>\n      <td>0.121703</td>\n    </tr>\n    <tr>\n      <th>2</th>\n      <td>cptsk</td>\n      <td>0.094219</td>\n      <td>0.180048</td>\n      <td>0.235089</td>\n      <td>-0.017557</td>\n      <td>0.008190</td>\n      <td>0.169343</td>\n      <td>-0.017779</td>\n      <td>0.008002</td>\n      <td>0.170041</td>\n      <td>...</td>\n      <td>-0.000002</td>\n      <td>7.881005e-07</td>\n      <td>0.000017</td>\n      <td>0.000000</td>\n      <td>0.000000</td>\n      <td>0.000000</td>\n      <td>0.000000</td>\n      <td>0.000000</td>\n      <td>0.000000</td>\n      <td>0.000000</td>\n    </tr>\n    <tr>\n      <th>3</th>\n      <td>ffgen</td>\n      <td>0.054346</td>\n      <td>0.006331</td>\n      <td>0.115815</td>\n      <td>-0.017942</td>\n      <td>0.007932</td>\n      <td>0.169966</td>\n      <td>-0.017872</td>\n      <td>0.007908</td>\n      <td>0.170102</td>\n      <td>...</td>\n      <td>0.003419</td>\n      <td>2.875315e-03</td>\n      <td>0.000808</td>\n      <td>0.000930</td>\n      <td>-0.000963</td>\n      <td>0.000364</td>\n      <td>0.003300</td>\n      <td>0.003912</td>\n      <td>0.001366</td>\n      <td>0.001002</td>\n    </tr>\n    <tr>\n      <th>4</th>\n      <td>ksgen</td>\n      <td>0.092584</td>\n      <td>0.229095</td>\n      <td>0.203279</td>\n      <td>-0.098165</td>\n      <td>0.002991</td>\n      <td>0.128670</td>\n      <td>-0.017973</td>\n      <td>0.007998</td>\n      <td>0.169543</td>\n      <td>...</td>\n      <td>0.031865</td>\n      <td>6.168883e-02</td>\n      <td>-0.002998</td>\n      <td>0.025346</td>\n      <td>0.020107</td>\n      <td>-0.010445</td>\n      <td>0.028911</td>\n      <td>0.059404</td>\n      <td>-0.007812</td>\n      <td>0.028381</td>\n    </tr>\n    <tr>\n      <th>5</th>\n      <td>mlmul</td>\n      <td>-0.048458</td>\n      <td>-0.306938</td>\n      <td>0.145685</td>\n      <td>-0.017874</td>\n      <td>0.007881</td>\n      <td>0.170112</td>\n      <td>-0.017874</td>\n      <td>0.007881</td>\n      <td>0.170112</td>\n      <td>...</td>\n      <td>0.000000</td>\n      <td>0.000000e+00</td>\n      <td>0.000000</td>\n      <td>0.000000</td>\n      <td>0.000000</td>\n      <td>0.000000</td>\n      <td>0.000000</td>\n      <td>0.000000</td>\n      <td>0.000000</td>\n      <td>0.000000</td>\n    </tr>\n    <tr>\n      <th>6</th>\n      <td>mqdbg</td>\n      <td>-0.159935</td>\n      <td>-0.103575</td>\n      <td>0.226588</td>\n      <td>-0.017767</td>\n      <td>0.007967</td>\n      <td>0.169629</td>\n      <td>-0.017669</td>\n      <td>0.007947</td>\n      <td>0.169702</td>\n      <td>...</td>\n      <td>-0.047487</td>\n      <td>3.595531e-01</td>\n      <td>-0.425073</td>\n      <td>-0.012746</td>\n      <td>0.085932</td>\n      <td>-0.127878</td>\n      <td>0.007068</td>\n      <td>0.071849</td>\n      <td>-0.022037</td>\n      <td>-0.036018</td>\n    </tr>\n    <tr>\n      <th>7</th>\n      <td>phqry</td>\n      <td>-0.087947</td>\n      <td>-0.291767</td>\n      <td>-0.028552</td>\n      <td>-0.017905</td>\n      <td>0.007893</td>\n      <td>0.170050</td>\n      <td>-0.017801</td>\n      <td>0.007910</td>\n      <td>0.169836</td>\n      <td>...</td>\n      <td>0.135102</td>\n      <td>7.805949e-02</td>\n      <td>-0.043997</td>\n      <td>0.149282</td>\n      <td>0.079436</td>\n      <td>-0.038141</td>\n      <td>0.151809</td>\n      <td>0.092054</td>\n      <td>-0.030102</td>\n      <td>0.151883</td>\n    </tr>\n    <tr>\n      <th>8</th>\n      <td>ppcmi</td>\n      <td>0.091437</td>\n      <td>0.231332</td>\n      <td>0.202181</td>\n      <td>-0.017874</td>\n      <td>0.007881</td>\n      <td>0.170112</td>\n      <td>-0.017874</td>\n      <td>0.007881</td>\n      <td>0.170112</td>\n      <td>...</td>\n      <td>0.000000</td>\n      <td>0.000000e+00</td>\n      <td>0.000000</td>\n      <td>0.000000</td>\n      <td>0.000000</td>\n      <td>0.000000</td>\n      <td>0.000000</td>\n      <td>0.000000</td>\n      <td>0.000000</td>\n      <td>0.000000</td>\n    </tr>\n    <tr>\n      <th>9</th>\n      <td>s</td>\n      <td>0.120894</td>\n      <td>0.250615</td>\n      <td>0.270810</td>\n      <td>-0.021007</td>\n      <td>0.018393</td>\n      <td>0.134851</td>\n      <td>-0.017906</td>\n      <td>0.007863</td>\n      <td>0.169834</td>\n      <td>...</td>\n      <td>0.000000</td>\n      <td>0.000000e+00</td>\n      <td>0.000000</td>\n      <td>0.000000</td>\n      <td>0.000000</td>\n      <td>0.000000</td>\n      <td>0.000000</td>\n      <td>0.000000</td>\n      <td>0.000000</td>\n      <td>0.000000</td>\n    </tr>\n  </tbody>\n</table>\n<p>10 rows × 101 columns</p>\n</div>"
     },
     "execution_count": 19,
     "metadata": {},
     "output_type": "execute_result"
    }
   ],
   "source": [
    "feature_vector.head(10)"
   ],
   "metadata": {
    "collapsed": false,
    "pycharm": {
     "name": "#%%\n"
    }
   }
  },
  {
   "cell_type": "markdown",
   "metadata": {},
   "source": [
    "### Clustering using DBSCAN"
   ]
  },
  {
   "cell_type": "code",
   "execution_count": 20,
   "metadata": {
    "pycharm": {
     "name": "#%%\n"
    }
   },
   "outputs": [],
   "source": [
    "from logai.analysis.clustering import ClusteringConfig, Clustering\n",
    "from logai.algorithms.clustering_algo.dbscan import DbScanParams\n",
    "\n",
    "algo_params = DbScanParams()\n",
    "clustering_config = ClusteringConfig('DBSCAN', algo_params, None)\n",
    "\n",
    "clustering = Clustering(clustering_config)\n",
    "clustering.fit(feature_for_clustering)\n",
    "dbscan_res = clustering.predict(feature_for_clustering)"
   ]
  },
  {
   "cell_type": "code",
   "execution_count": 21,
   "metadata": {
    "pycharm": {
     "name": "#%%\n"
    }
   },
   "outputs": [
    {
     "data": {
      "text/plain": "-1    10\ndtype: int64"
     },
     "execution_count": 21,
     "metadata": {},
     "output_type": "execute_result"
    }
   ],
   "source": [
    "dbscan_res.value_counts()"
   ]
  },
  {
   "cell_type": "markdown",
   "metadata": {},
   "source": [
    "### Clustering using K-Means"
   ]
  },
  {
   "cell_type": "code",
   "execution_count": 22,
   "metadata": {
    "pycharm": {
     "name": "#%%\n"
    }
   },
   "outputs": [],
   "source": [
    "from logai.algorithms.clustering_algo.kmeans import KMeansParams\n",
    "\n",
    "algo_params = KMeansParams()\n",
    "clustering_config = ClusteringConfig('KMeans', algo_params, None)\n",
    "\n",
    "clustering = Clustering(clustering_config)\n",
    "clustering.fit(feature_for_clustering)\n",
    "kmeans_res = clustering.predict(feature_for_clustering)"
   ]
  },
  {
   "cell_type": "code",
   "execution_count": 23,
   "metadata": {
    "pycharm": {
     "name": "#%%\n"
    }
   },
   "outputs": [
    {
     "data": {
      "text/plain": "0    3\n1    1\n3    1\n2    1\n4    1\n5    1\n6    1\n7    1\ndtype: int64"
     },
     "execution_count": 23,
     "metadata": {},
     "output_type": "execute_result"
    }
   ],
   "source": [
    "kmeans_res.value_counts()"
   ]
  },
  {
   "cell_type": "markdown",
   "metadata": {},
   "source": [
    "## Anomaly Detection\n",
    "\n",
    "### Prepare training and testing set\n"
   ]
  },
  {
   "cell_type": "code",
   "execution_count": 24,
   "metadata": {
    "pycharm": {
     "name": "#%%\n"
    }
   },
   "outputs": [],
   "source": [
    "from sklearn.model_selection import train_test_split\n",
    "\n",
    "feature_for_anomaly_detection = feature_vector.loc[:, ~feature_vector.columns.isin(['timestamp', 'cluster_label', 'logRecordType'])]\n",
    "train, test = train_test_split(feature_for_anomaly_detection, train_size=0.7, test_size=0.3)"
   ]
  },
  {
   "cell_type": "markdown",
   "metadata": {},
   "source": [
    "### Isolation forest for anomaly detection"
   ]
  },
  {
   "cell_type": "code",
   "execution_count": 25,
   "metadata": {
    "pycharm": {
     "name": "#%%\n"
    }
   },
   "outputs": [],
   "source": [
    "from logai.algorithms.anomaly_detection_algo.isolation_forest import IsolationForestParams\n",
    "from logai.analysis.anomaly_detector import AnomalyDetectionConfig, AnomalyDetector\n",
    "\n",
    "algo_params = IsolationForestParams()\n",
    "config = AnomalyDetectionConfig(algo_name='isolation_forest', algo_params=algo_params)\n",
    "\n",
    "anomaly_detector = AnomalyDetector(config)\n",
    "anomaly_detector.fit(train)\n",
    "res = anomaly_detector.predict(test)"
   ]
  },
  {
   "cell_type": "markdown",
   "metadata": {},
   "source": [
    "### One class SVM for anomaly detection"
   ]
  },
  {
   "cell_type": "code",
   "execution_count": 26,
   "metadata": {
    "pycharm": {
     "name": "#%%\n"
    }
   },
   "outputs": [
    {
     "name": "stdout",
     "output_type": "stream",
     "text": [
      "[LibSVM].*.*\n",
      "optimization finished, #iter = 16\n",
      "obj = 2.917964, rho = 2.494658\n",
      "nSV = 6, nBSV = 2\n"
     ]
    }
   ],
   "source": [
    "from logai.algorithms.anomaly_detection_algo.one_class_svm import OneClassSVMParams\n",
    "from logai.analysis.anomaly_detector import AnomalyDetectionConfig, AnomalyDetector\n",
    "\n",
    "algo_params = OneClassSVMParams()\n",
    "\n",
    "config = AnomalyDetectionConfig(algo_name='one_class_svm')\n",
    "\n",
    "anomaly_detector = AnomalyDetector(config)\n",
    "anomaly_detector.fit(train)\n",
    "res = anomaly_detector.predict(test)"
   ]
  },
  {
   "cell_type": "markdown",
   "metadata": {},
   "source": [
    "#### Anomalous loglines"
   ]
  },
  {
   "cell_type": "code",
   "execution_count": 27,
   "metadata": {
    "pycharm": {
     "name": "#%%\n"
    }
   },
   "outputs": [
    {
     "data": {
      "text/plain": "                                             logline  \\\n0  ffgen 20210501000000.005 112100 0 0 acbcfa25dd...   \n6  ffgen 20210501000000.160 4bf7FOabZfbDZ4mt-SUBZ...   \n4  mqdbg 20210501000000.127 1411 0 0 0 fr:021 232...   \n\n                                      parsed_logline  \\\n0  ffgen * * 0 0 * * 0 * 232.3.3 INFO RollingHttp...   \n6  ffgen * * * 0 0 * * * 0 * 232.3.3 INFO end att...   \n4  mqdbg * * 0 0 0 * 232.3.3 sfdc.common.messagin...   \n\n                                      parameter_list  anomaly_label  \n0  [20210501000000.005, 112100, acbcfa25ddbbae4b,...              1  \n6  [20210501000000.160, 4bf7FOabZfbDZ4mt-SUBZ-, 1...              1  \n4  [20210501000000.127, 1411, fr:021, agent, for,...              1  ",
      "text/html": "<div>\n<style scoped>\n    .dataframe tbody tr th:only-of-type {\n        vertical-align: middle;\n    }\n\n    .dataframe tbody tr th {\n        vertical-align: top;\n    }\n\n    .dataframe thead th {\n        text-align: right;\n    }\n</style>\n<table border=\"1\" class=\"dataframe\">\n  <thead>\n    <tr style=\"text-align: right;\">\n      <th></th>\n      <th>logline</th>\n      <th>parsed_logline</th>\n      <th>parameter_list</th>\n      <th>anomaly_label</th>\n    </tr>\n  </thead>\n  <tbody>\n    <tr>\n      <th>0</th>\n      <td>ffgen 20210501000000.005 112100 0 0 acbcfa25dd...</td>\n      <td>ffgen * * 0 0 * * 0 * 232.3.3 INFO RollingHttp...</td>\n      <td>[20210501000000.005, 112100, acbcfa25ddbbae4b,...</td>\n      <td>1</td>\n    </tr>\n    <tr>\n      <th>6</th>\n      <td>ffgen 20210501000000.160 4bf7FOabZfbDZ4mt-SUBZ...</td>\n      <td>ffgen * * * 0 0 * * * 0 * 232.3.3 INFO end att...</td>\n      <td>[20210501000000.160, 4bf7FOabZfbDZ4mt-SUBZ-, 1...</td>\n      <td>1</td>\n    </tr>\n    <tr>\n      <th>4</th>\n      <td>mqdbg 20210501000000.127 1411 0 0 0 fr:021 232...</td>\n      <td>mqdbg * * 0 0 0 * 232.3.3 sfdc.common.messagin...</td>\n      <td>[20210501000000.127, 1411, fr:021, agent, for,...</td>\n      <td>1</td>\n    </tr>\n  </tbody>\n</table>\n</div>"
     },
     "execution_count": 27,
     "metadata": {},
     "output_type": "execute_result"
    }
   ],
   "source": [
    "pd.concat((parsed_result.iloc[res[res==1].index], res[res==1].rename('anomaly_label')), axis=1)\n"
   ]
  },
  {
   "cell_type": "code",
   "execution_count": 27,
   "metadata": {},
   "outputs": [],
   "source": []
  }
 ],
 "metadata": {
  "kernelspec": {
   "display_name": "Python 3 (ipykernel)",
   "language": "python",
   "name": "python3"
  },
  "language_info": {
   "codemirror_mode": {
    "name": "ipython",
    "version": 3
   },
   "file_extension": ".py",
   "mimetype": "text/x-python",
   "name": "python",
   "nbconvert_exporter": "python",
   "pygments_lexer": "ipython3",
   "version": "3.7.9"
  }
 },
 "nbformat": 4,
 "nbformat_minor": 1
}