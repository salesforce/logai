{
 "cells": [
  {
   "cell_type": "markdown",
   "source": [
    "## Tutorial: Use Log Anomaly Detection Application\n",
    "\n",
    "LogAI supports configuration files in `.json` or `.yaml`.\n",
    "Below is a sample `log_anomaly_detection_config.json` configruation for anomaly detection application."
   ],
   "metadata": {
    "collapsed": false,
    "pycharm": {
     "name": "#%% md\n"
    }
   }
  },
  {
   "cell_type": "code",
   "execution_count": 24,
   "outputs": [],
   "source": [
    "json_config = \"\"\"{\n",
    "      \"open_set_data_loader_config\": {\n",
    "        \"dataset_name\": \"HDFS\",\n",
    "        \"filepath\": \"../datasets/HDFS_5000.log\"\n",
    "      },\n",
    "      \"preprocessor_config\": {\n",
    "          \"custom_delimiters_regex\":[]\n",
    "      },\n",
    "      \"log_parser_config\": {\n",
    "        \"parsing_algorithm\": \"drain\",\n",
    "        \"parsing_algo_params\": {\n",
    "          \"sim_th\": 0.5,\n",
    "          \"depth\": 5\n",
    "        }\n",
    "      },\n",
    "      \"feature_extractor_config\": {\n",
    "          \"group_by_category\": [\"Level\"],\n",
    "          \"group_by_time\": \"1s\"\n",
    "      },\n",
    "      \"log_vectorizer_config\": {\n",
    "          \"algo_name\": \"word2vec\"\n",
    "      },\n",
    "      \"categorical_encoder_config\": {\n",
    "          \"name\": \"label_encoder\"\n",
    "      },\n",
    "      \"anomaly_detection_config\": {\n",
    "          \"algo_name\": \"one_class_svm\"\n",
    "      }\n",
    "}\n",
    "\"\"\"\n",
    "\n",
    "json_file = './log_anomaly_detection_config.json'\n",
    "with open(json_file, 'w') as f:\n",
    "    f.write(json_config)\n"
   ],
   "metadata": {
    "collapsed": false,
    "pycharm": {
     "name": "#%%\n"
    }
   }
  },
  {
   "cell_type": "markdown",
   "source": [
    "Then to run log anomaly detection. You can simply create below python script:"
   ],
   "metadata": {
    "collapsed": false,
    "pycharm": {
     "name": "#%% md\n"
    }
   }
  },
  {
   "cell_type": "code",
   "execution_count": 25,
   "outputs": [],
   "source": [
    "import os\n",
    "\n",
    "from logai.applications.log_anomaly_detection import LogAnomalyDetection\n",
    "from logai.applications.application_interfaces import WorkFlowConfig\n",
    "import json\n",
    "\n",
    "# path to json configuration file\n",
    "json_config = os.path.join(\".\", \"log_anomaly_detection_config.json\")\n",
    "\n",
    "# Create log anomaly detection application workflow configuration\n",
    "with open(json_config, 'r') as f:\n",
    "    config = json.load(f)\n",
    "\n",
    "workflow_config = WorkFlowConfig.from_dict(config)\n",
    "\n",
    "# Create LogAnomalyDetection Application for given workflow_config\n",
    "app = LogAnomalyDetection(workflow_config)\n",
    "\n",
    "# Execute App\n",
    "app.execute()"
   ],
   "metadata": {
    "collapsed": false,
    "pycharm": {
     "name": "#%%\n"
    }
   }
  },
  {
   "cell_type": "markdown",
   "source": [
    "Then you can check anomaly detection results by calling `app.anomaly_results`."
   ],
   "metadata": {
    "collapsed": false,
    "pycharm": {
     "name": "#%% md\n"
    }
   }
  },
  {
   "cell_type": "code",
   "execution_count": 19,
   "outputs": [
    {
     "data": {
      "text/plain": "                                             logline  _id  is_anomaly Level  \\\n2  dfs.DataNode$DataXceiver: Receiving block blk_...    2        True  INFO   \n3  dfs.DataNode$DataXceiver: Receiving block blk_...    3        True  INFO   \n4  dfs.DataNode$PacketResponder: PacketResponder ...    4        True  INFO   \n5  dfs.DataNode$PacketResponder: PacketResponder ...    5        True  INFO   \n6  dfs.DataNode$PacketResponder: Received block b...    6        True  INFO   \n\n            timestamp  group_id  \n2 2008-11-09 20:35:19         1  \n3 2008-11-09 20:35:19         1  \n4 2008-11-09 20:35:19         1  \n5 2008-11-09 20:35:19         1  \n6 2008-11-09 20:35:19         1  ",
      "text/html": "<div>\n<style scoped>\n    .dataframe tbody tr th:only-of-type {\n        vertical-align: middle;\n    }\n\n    .dataframe tbody tr th {\n        vertical-align: top;\n    }\n\n    .dataframe thead th {\n        text-align: right;\n    }\n</style>\n<table border=\"1\" class=\"dataframe\">\n  <thead>\n    <tr style=\"text-align: right;\">\n      <th></th>\n      <th>logline</th>\n      <th>_id</th>\n      <th>is_anomaly</th>\n      <th>Level</th>\n      <th>timestamp</th>\n      <th>group_id</th>\n    </tr>\n  </thead>\n  <tbody>\n    <tr>\n      <th>2</th>\n      <td>dfs.DataNode$DataXceiver: Receiving block blk_...</td>\n      <td>2</td>\n      <td>True</td>\n      <td>INFO</td>\n      <td>2008-11-09 20:35:19</td>\n      <td>1</td>\n    </tr>\n    <tr>\n      <th>3</th>\n      <td>dfs.DataNode$DataXceiver: Receiving block blk_...</td>\n      <td>3</td>\n      <td>True</td>\n      <td>INFO</td>\n      <td>2008-11-09 20:35:19</td>\n      <td>1</td>\n    </tr>\n    <tr>\n      <th>4</th>\n      <td>dfs.DataNode$PacketResponder: PacketResponder ...</td>\n      <td>4</td>\n      <td>True</td>\n      <td>INFO</td>\n      <td>2008-11-09 20:35:19</td>\n      <td>1</td>\n    </tr>\n    <tr>\n      <th>5</th>\n      <td>dfs.DataNode$PacketResponder: PacketResponder ...</td>\n      <td>5</td>\n      <td>True</td>\n      <td>INFO</td>\n      <td>2008-11-09 20:35:19</td>\n      <td>1</td>\n    </tr>\n    <tr>\n      <th>6</th>\n      <td>dfs.DataNode$PacketResponder: Received block b...</td>\n      <td>6</td>\n      <td>True</td>\n      <td>INFO</td>\n      <td>2008-11-09 20:35:19</td>\n      <td>1</td>\n    </tr>\n  </tbody>\n</table>\n</div>"
     },
     "execution_count": 19,
     "metadata": {},
     "output_type": "execute_result"
    }
   ],
   "source": [
    "app.anomaly_results.head(5)"
   ],
   "metadata": {
    "collapsed": false,
    "pycharm": {
     "name": "#%%\n"
    }
   }
  }
 ],
 "metadata": {
  "kernelspec": {
   "display_name": "Python 3",
   "language": "python",
   "name": "python3"
  },
  "language_info": {
   "codemirror_mode": {
    "name": "ipython",
    "version": 2
   },
   "file_extension": ".py",
   "mimetype": "text/x-python",
   "name": "python",
   "nbconvert_exporter": "python",
   "pygments_lexer": "ipython2",
   "version": "2.7.6"
  }
 },
 "nbformat": 4,
 "nbformat_minor": 0
}