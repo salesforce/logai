{
 "cells": [
  {
   "cell_type": "markdown",
   "metadata": {
    "collapsed": true,
    "pycharm": {
     "name": "#%% md\n"
    }
   },
   "source": [
    "# Demo to Build Log Representation Model for HDFS Dataset"
   ]
  },
  {
   "cell_type": "markdown",
   "source": [
    "## Load Data\n",
    "\n",
    "Use `OpenSetDataLoader` to load HDFS logs."
   ],
   "metadata": {
    "collapsed": false
   }
  },
  {
   "cell_type": "code",
   "execution_count": 1,
   "outputs": [
    {
     "name": "stdout",
     "output_type": "stream",
     "text": [
      "Total size after encoding is 2001 2001\n",
      "CPU times: user 1.05 s, sys: 363 ms, total: 1.42 s\n",
      "Wall time: 576 ms\n"
     ]
    }
   ],
   "source": [
    "%%time\n",
    "\n",
    "import numpy as np\n",
    "import pandas as pd\n",
    "\n",
    "from logai.dataloader.openset_data_loader import OpenSetDataLoader, OpenSetDataLoaderConfig\n",
    "\n",
    "#File Configuration\n",
    "filepath = \"/Users/qcheng/workspace/gitsoma/logai/logai/data/open_datasets/HDFS_1/HDFS_2000.log\"\n",
    "\n",
    "dataset_name = \"HDFS\"\n",
    "data_loader = OpenSetDataLoader(\n",
    "    OpenSetDataLoaderConfig(\n",
    "        dataset_name=dataset_name,\n",
    "        filepath=filepath)\n",
    ")\n",
    "\n",
    "logrecord = data_loader.load_data()"
   ],
   "metadata": {
    "collapsed": false,
    "pycharm": {
     "name": "#%%\n"
    }
   }
  },
  {
   "cell_type": "markdown",
   "source": [
    "## Preprocessing\n",
    "\n",
    "Retrieve `<block id>`, `<ip>` and `<filepath>` from raw loglines using `preprocessor`."
   ],
   "metadata": {
    "collapsed": false
   }
  },
  {
   "cell_type": "code",
   "execution_count": 2,
   "outputs": [
    {
     "name": "stdout",
     "output_type": "stream",
     "text": [
      "CPU times: user 1.09 s, sys: 318 ms, total: 1.41 s\n",
      "Wall time: 1.66 s\n"
     ]
    }
   ],
   "source": [
    "%%time\n",
    "\n",
    "from logai.preprocess.preprocess import PreprocessorConfig, Preprocessor\n",
    "from logai.utils import constants\n",
    "\n",
    "loglines = logrecord.body[constants.LOGLINE_NAME]\n",
    "\n",
    "preprocessor_config = PreprocessorConfig(\n",
    "    custom_replace_list=[\n",
    "        [r\"(?<=blk_)[-\\d]+\", \"<block_id>\"],\n",
    "        [r\"\\d+\\.\\d+\\.\\d+\\.\\d+\", \"<IP>\"],\n",
    "        [r\"(/[-\\w]+)+\", \"<file_path>\"],\n",
    "    ]\n",
    ")\n",
    "\n",
    "preprocessor = Preprocessor(preprocessor_config)\n",
    "\n",
    "clean_logs, custom_patterns = preprocessor.clean_log(\n",
    "    loglines\n",
    ")\n"
   ],
   "metadata": {
    "collapsed": false,
    "pycharm": {
     "name": "#%%\n"
    }
   }
  },
  {
   "cell_type": "markdown",
   "source": [
    "## Parsing\n",
    "\n",
    "Parse logs using Drain.\n"
   ],
   "metadata": {
    "collapsed": false
   }
  },
  {
   "cell_type": "code",
   "execution_count": 3,
   "outputs": [
    {
     "name": "stdout",
     "output_type": "stream",
     "text": [
      "CPU times: user 145 ms, sys: 3.23 ms, total: 148 ms\n",
      "Wall time: 151 ms\n"
     ]
    }
   ],
   "source": [
    "%%time\n",
    "\n",
    "from logai.information_extraction.log_parser import LogParser, LogParserConfig\n",
    "from logai.algorithms.parsing_algo.drain import DrainParams\n",
    "\n",
    "# parsing\n",
    "parsing_algo_params = DrainParams(\n",
    "    sim_th=0.5, depth=5\n",
    ")\n",
    "\n",
    "log_parser_config = LogParserConfig(\n",
    "    parsing_algorithm=\"drain\",\n",
    "    parsing_algo_params=parsing_algo_params\n",
    ")\n",
    "\n",
    "parser = LogParser(log_parser_config)\n",
    "parsed_result = parser.parse(clean_logs)"
   ],
   "metadata": {
    "collapsed": false,
    "pycharm": {
     "name": "#%%\n"
    }
   }
  },
  {
   "cell_type": "markdown",
   "source": [
    "## Partitioning\n",
    "\n",
    "Partition Logs and generate log sequence for each `block_id`.\n"
   ],
   "metadata": {
    "collapsed": false
   }
  },
  {
   "cell_type": "code",
   "execution_count": 4,
   "outputs": [
    {
     "name": "stdout",
     "output_type": "stream",
     "text": [
      "CPU times: user 320 ms, sys: 53.7 ms, total: 374 ms\n",
      "Wall time: 416 ms\n"
     ]
    }
   ],
   "source": [
    "%%time\n",
    "\n",
    "n_gram = 10 # Length of log sequence.\n",
    "from logai.preprocess.partition import PartitionerConfig, Partitioner\n",
    "from logai.dataloader.data_model import LogRecordObject\n",
    "\n",
    "attributes = logrecord.attributes\n",
    "\n",
    "attributes['block_id'] = custom_patterns[\"<block_id>\"].apply(lambda x:x[0])\n",
    "\n",
    "new_log_record = LogRecordObject(\n",
    "    body=pd.DataFrame(clean_logs),\n",
    "    attributes=attributes\n",
    ")\n",
    "\n",
    "new_log_df = new_log_record.to_dataframe()\n",
    "\n",
    "config = PartitionerConfig(\n",
    "            sliding_window=n_gram+1,\n",
    "            group_by_category=['block_id'],\n",
    "            sep_token=\"[SEP]\"\n",
    "        )\n",
    "partitioner = Partitioner(config)\n",
    "\n",
    "partitioned_df = partitioner.group_sliding_window(new_log_df, constants.LOGLINE_NAME)\n",
    "\n",
    "partitioned_df['block_id'] = partitioned_df['block_id'].astype(str)"
   ],
   "metadata": {
    "collapsed": false,
    "pycharm": {
     "name": "#%%\n"
    }
   }
  },
  {
   "cell_type": "markdown",
   "source": [
    "## Read Log Anomaly Labels\n",
    "\n",
    "Read the `anomaly.csv` file and acquire anomaly labels for each `block_id`."
   ],
   "metadata": {
    "collapsed": false,
    "pycharm": {
     "name": "#%% md\n"
    }
   }
  },
  {
   "cell_type": "code",
   "execution_count": 5,
   "outputs": [],
   "source": [
    "labelpath = \"/Users/qcheng/workspace/gitsoma/logai/logai/data/open_datasets/HDFS_1/anomaly_label.csv\"\n",
    "\n",
    "labels = pd.read_csv(labelpath, header=0)\n",
    "\n",
    "labels['block_id'] = labels['BlockId'].apply(lambda x:x.split(\"_\")[1]).astype(str)\n",
    "labels['label'] = labels['Label'].apply(lambda x:1 if x == \"Anomaly\" else 0)\n",
    "\n",
    "pos = set(labels[labels['label'] == 1]['block_id'])\n",
    "partitioned_df['label'] = np.array([1 if blk in pos else 0 for blk in partitioned_df['block_id']])"
   ],
   "metadata": {
    "collapsed": false,
    "pycharm": {
     "name": "#%%\n"
    }
   }
  },
  {
   "cell_type": "code",
   "execution_count": 6,
   "outputs": [
    {
     "data": {
      "text/plain": "               block_id                                            logline  \\\n0  -1052739769153545987  dfs.DataNode$DataXceiver: Receiving block blk_...   \n1  -1052739769153545987  dfs.DataNode$DataXceiver: Receiving block blk_...   \n2  -1052739769153545987  dfs.DataNode$DataXceiver: Receiving block blk_...   \n3  -1052739769153545987  dfs.DataNode$DataXceiver: Receiving block blk_...   \n4   -105450231192318816  dfs.DataNode$DataXceiver: Receiving block blk_...   \n\n   label  \n0      0  \n1      0  \n2      0  \n3      0  \n4      0  ",
      "text/html": "<div>\n<style scoped>\n    .dataframe tbody tr th:only-of-type {\n        vertical-align: middle;\n    }\n\n    .dataframe tbody tr th {\n        vertical-align: top;\n    }\n\n    .dataframe thead th {\n        text-align: right;\n    }\n</style>\n<table border=\"1\" class=\"dataframe\">\n  <thead>\n    <tr style=\"text-align: right;\">\n      <th></th>\n      <th>block_id</th>\n      <th>logline</th>\n      <th>label</th>\n    </tr>\n  </thead>\n  <tbody>\n    <tr>\n      <th>0</th>\n      <td>-1052739769153545987</td>\n      <td>dfs.DataNode$DataXceiver: Receiving block blk_...</td>\n      <td>0</td>\n    </tr>\n    <tr>\n      <th>1</th>\n      <td>-1052739769153545987</td>\n      <td>dfs.DataNode$DataXceiver: Receiving block blk_...</td>\n      <td>0</td>\n    </tr>\n    <tr>\n      <th>2</th>\n      <td>-1052739769153545987</td>\n      <td>dfs.DataNode$DataXceiver: Receiving block blk_...</td>\n      <td>0</td>\n    </tr>\n    <tr>\n      <th>3</th>\n      <td>-1052739769153545987</td>\n      <td>dfs.DataNode$DataXceiver: Receiving block blk_...</td>\n      <td>0</td>\n    </tr>\n    <tr>\n      <th>4</th>\n      <td>-105450231192318816</td>\n      <td>dfs.DataNode$DataXceiver: Receiving block blk_...</td>\n      <td>0</td>\n    </tr>\n  </tbody>\n</table>\n</div>"
     },
     "execution_count": 6,
     "metadata": {},
     "output_type": "execute_result"
    }
   ],
   "source": [
    "partitioned_df.head(5)"
   ],
   "metadata": {
    "collapsed": false,
    "pycharm": {
     "name": "#%%\n"
    }
   }
  },
  {
   "cell_type": "code",
   "execution_count": null,
   "outputs": [],
   "source": [],
   "metadata": {
    "collapsed": false,
    "pycharm": {
     "name": "#%%\n"
    }
   }
  },
  {
   "cell_type": "markdown",
   "source": [
    "## Tokenization and Vectorization\n"
   ],
   "metadata": {
    "collapsed": false
   }
  },
  {
   "cell_type": "code",
   "execution_count": null,
   "outputs": [],
   "source": [
    "from logai.information_extraction.log_vectorizer import VectorizerConfig, LogVectorizer\n",
    "\n",
    "loglines = partitioned_df.logline\n",
    "\n",
    "vectorizer_config = VectorizerConfig(\n",
    "    algo_name = \"word2vec\"\n",
    ")\n",
    "\n",
    "vectorizer = LogVectorizer(\n",
    "    vectorizer_config\n",
    ")\n",
    "vectorizer.fit(loglines)\n",
    "log_vectors = vectorizer.transform(loglines)"
   ],
   "metadata": {
    "collapsed": false,
    "pycharm": {
     "name": "#%%\n"
    }
   }
  },
  {
   "cell_type": "code",
   "execution_count": null,
   "outputs": [],
   "source": [
    "lens = []\n",
    "\n",
    "for lv in log_vectors:\n",
    "    lens.append(len(lv))"
   ],
   "metadata": {
    "collapsed": false,
    "pycharm": {
     "name": "#%%\n"
    }
   }
  },
  {
   "cell_type": "code",
   "source": [
    "#File Configuration\n",
    "filepath = \"/Users/qcheng/workspace/gitsoma/logai/logai/data/open_datasets/HealthApp.log\"\n",
    "\n",
    "outpath = \"/Users/qcheng/workspace/gitsoma/logai/logai/data/open_datasets/HealthApp_20000.log\"\n",
    "\n",
    "with open(outpath, \"w\") as of:\n",
    "    with open(filepath, \"r\") as rf:\n",
    "        counter = 0\n",
    "        for line in rf.readlines():\n",
    "            if counter >= 20000:\n",
    "                break\n",
    "            of.write(line)\n",
    "            counter += 1\n"
   ],
   "metadata": {
    "collapsed": false,
    "pycharm": {
     "name": "#%%\n"
    }
   },
   "execution_count": 4,
   "outputs": []
  },
  {
   "cell_type": "code",
   "execution_count": null,
   "outputs": [],
   "source": [],
   "metadata": {
    "collapsed": false,
    "pycharm": {
     "name": "#%%\n"
    }
   }
  },
  {
   "cell_type": "markdown",
   "source": [
    "## Inference"
   ],
   "metadata": {
    "collapsed": false,
    "pycharm": {
     "name": "#%% md\n"
    }
   }
  },
  {
   "cell_type": "code",
   "execution_count": null,
   "outputs": [],
   "source": [
    "\n"
   ],
   "metadata": {
    "collapsed": false,
    "pycharm": {
     "name": "#%%\n"
    }
   }
  }
 ],
 "metadata": {
  "kernelspec": {
   "display_name": "Python 3",
   "language": "python",
   "name": "python3"
  },
  "language_info": {
   "codemirror_mode": {
    "name": "ipython",
    "version": 2
   },
   "file_extension": ".py",
   "mimetype": "text/x-python",
   "name": "python",
   "nbconvert_exporter": "python",
   "pygments_lexer": "ipython2",
   "version": "2.7.6"
  }
 },
 "nbformat": 4,
 "nbformat_minor": 0
}